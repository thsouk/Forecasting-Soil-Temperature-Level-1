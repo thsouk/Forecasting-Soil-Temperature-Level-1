{
  "nbformat": 4,
  "nbformat_minor": 0,
  "metadata": {
    "colab": {
      "provenance": [],
      "collapsed_sections": []
    },
    "kernelspec": {
      "name": "python3",
      "display_name": "Python 3"
    },
    "language_info": {
      "name": "python"
    }
  },
  "cells": [
    {
      "cell_type": "code",
      "execution_count": null,
      "metadata": {
        "id": "46oIYhqd7hBf"
      },
      "outputs": [],
      "source": [
        "import numpy as np\n",
        "import pandas as pd\n",
        "import matplotlib.pyplot as plt\n",
        "\n",
        "import tensorflow as tf\n",
        "from tensorflow import keras\n",
        "from tensorflow.keras import layers\n",
        "\n",
        "import sklearn\n",
        "from sklearn.model_selection import train_test_split\n",
        "\n",
        "# Import skvideo. A library that provides easy access to common as well as state-of-the-art video processing routines.\n",
        "\n",
        "! sudo pip install scikit-video\n",
        "\n",
        "import skvideo.io"
      ]
    },
    {
      "cell_type": "code",
      "source": [
        "#Mount google drive\n",
        "from google.colab import drive\n",
        "#For authentication \n",
        "drive.mount('/gdrive')\n",
        "%cd /gdrive"
      ],
      "metadata": {
        "id": "j1nT5yJTAMB2"
      },
      "execution_count": null,
      "outputs": []
    },
    {
      "cell_type": "code",
      "source": [
        "videodata = skvideo.io.vread(\"/gdrive/MyDrive/pla(i)nt/Video Folders of pla(i)nt/Soil_Temp_Lvl_1_18_24_20_10.mp4\")\n",
        "print(videodata.shape)"
      ],
      "metadata": {
        "id": "7xK5QR1QBbbS"
      },
      "execution_count": null,
      "outputs": []
    },
    {
      "cell_type": "code",
      "source": [
        "\"\"\"\n",
        "Isolate the first channel band which corresponds to the first level of Soil Temperature.\n",
        "\n",
        "Soil Temperature Level 1 corresponds to the first layer below Earth's surface level. The first 7cm below surface level translate to Level 1 soil. \n",
        "\"\"\"\n",
        "videodata = videodata[:,:,:,:1]\n",
        "print(videodata.shape)"
      ],
      "metadata": {
        "id": "HNy9JNv6CtJx"
      },
      "execution_count": null,
      "outputs": []
    },
    {
      "cell_type": "code",
      "source": [
        "# Hard-set season variable to assess seasonality patterns per example\n",
        "\n",
        "def pre_data(num_frames_per_example):\n",
        "\n",
        "    videodata = skvideo.io.vread(\"/gdrive/MyDrive/pla(i)nt/Video Folders of pla(i)nt/Soil_Temp_Lvl_1_18_24_20_10.mp4\")\n",
        "    videodata = videodata[:,:,:,:1]\n",
        "\n",
        "    data = []\n",
        "    pre_exmaples = []\n",
        "\n",
        "    for i in range (videodata.shape[0] - num_frames_per_example):\n",
        "        \n",
        "        pre_examples = videodata[i:i + num_frames_per_example, :, :, :]\n",
        "        data.append(pre_examples)\n",
        "    \n",
        "    dataset = np.array(data)\n",
        "    # print(\"We have\", dataset.shape[0],\"examples\")\n",
        "    # print(\"Each example has\", dataset.shape[1],\"frames\")\n",
        "    # print(\"Each frame is\", dataset.shape[2],\"by\",dataset.shape[3])\n",
        "\n",
        "    return dataset"
      ],
      "metadata": {
        "id": "1yEVP911T-hR"
      },
      "execution_count": 5,
      "outputs": []
    },
    {
      "cell_type": "code",
      "source": [
        "\n",
        "\"\"\"\n",
        "In this case we have 480 frames. Each frame is an image with spatial dims of (12 X 32).\n",
        "\n",
        "We set a season like (Autumn, Winter...) as the base for our forecast. So we plot 3 consecutive frames each time in order to assess if there are any distored frames from \n",
        "our library translation\n",
        "\"\"\"\n",
        "\n",
        "def data_vis(num_examples):\n",
        "    \n",
        "    for i in range (num_examples):\n",
        "\n",
        "        random_data_choice = np.random.choice(a = pre_data(3).shape[0], size = 1)[0]\n",
        "\n",
        "        for j in range(pre_data(3).shape[1]):\n",
        "\n",
        "            image = plt.imshow(np.squeeze(pre_data(3)[random_data_choice][j]), cmap = \"hot\", aspect = \"equal\")\n",
        "            plt.title(\"Soil temperature in frame \"  f\"{j + 1} \" f\"of example {random_data_choice}\" )\n",
        "            plt.colorbar()\n",
        "            plt.show()\n",
        "\n",
        "    return random_data_choice"
      ],
      "metadata": {
        "id": "z-T8GMbaGKum"
      },
      "execution_count": 6,
      "outputs": []
    },
    {
      "cell_type": "code",
      "source": [
        "def month_vis(number_of_month):\n",
        "    \n",
        "    videodata = skvideo.io.vread(\"/gdrive/MyDrive/pla(i)nt/Video Folders of pla(i)nt/Soil_Temp_Lvl_1_18_24_20_10.mp4\")\n",
        "    videodata = videodata[:,:,:,:1]\n",
        "\n",
        "    videodata = videodata[number_of_month::12]\n",
        "\n",
        "    month_dict = {1:'January', 2:'February', 3:'March', 4:'April', 5:'May', 6:'June', 7:'July', \n",
        "                  8:'August', 9:'September', 10:'October', 11:'November', 12:'December'}\n",
        "\n",
        "    for i in range(videodata.shape[0]):\n",
        "\n",
        "        image = plt.imshow(np.squeeze(videodata[i]), cmap = \"hot\", aspect = \"equal\")\n",
        "        plt.title(\"Soil temperature of Crete in \" f\"{month_dict[number_of_month]}\"  f\"{1981 + i}\" )\n",
        "        plt.colorbar()\n",
        "        plt.show()\n",
        "    \n",
        "    return month_dict[number_of_month]"
      ],
      "metadata": {
        "id": "Ozdq2D0JQB4o"
      },
      "execution_count": 7,
      "outputs": []
    },
    {
      "cell_type": "code",
      "source": [
        "train_data, test_data = sklearn.model_selection.train_test_split(pre_data(3), test_size = 0.3, train_size = 0.7)\n",
        "print(\"Our training data have shape\", train_data.shape)\n",
        "print(\"Our testing data have shape\", test_data.shape)"
      ],
      "metadata": {
        "id": "2b9vQi6S0wT0"
      },
      "execution_count": null,
      "outputs": []
    },
    {
      "cell_type": "code",
      "source": [
        "train_data = train_data / 255.0\n",
        "test_data = test_data / 255.0"
      ],
      "metadata": {
        "id": "9VbyWFXS2DRw"
      },
      "execution_count": 9,
      "outputs": []
    },
    {
      "cell_type": "code",
      "source": [
        "def assign_frames(data):\n",
        "  x = data[:, 0 : data.shape[1] - 1, :, :, :]\n",
        "  y = data[:, 1 : data.shape[1], :, :, :]\n",
        "  return x, y\n",
        "\n",
        "x_train, y_train = assign_frames(train_data)\n",
        "\n",
        "print(\"Training Dataset Shape is: \" + str(x_train.shape) + \", \" + str(y_train.shape))\n",
        "\n",
        "x_test, y_test = assign_frames(test_data)\n",
        "print(\"Testing Dataset Shape is: \" + str(x_test.shape) + \", \" + str(y_test.shape))"
      ],
      "metadata": {
        "id": "KDoHyGWP3X1Y"
      },
      "execution_count": null,
      "outputs": []
    },
    {
      "cell_type": "code",
      "source": [
        "def pix_evol(row_pix, col_pix):\n",
        "\n",
        "    videodata = skvideo.io.vread(\"/gdrive/MyDrive/pla(i)nt/Video Folders of pla(i)nt/Soil_Temp_Lvl_1_18_24_20_10.mp4\")/255\n",
        "    videodata = videodata[:,:,:,:1]\n",
        "    \n",
        "    pixel_evol = np.swapaxes(videodata,0, 2)\n",
        "    \n",
        "    if ((row_pix == 6) and (col_pix == 23)):\n",
        "\n",
        "        ag_nik_pix_evol = pixel_evol[col_pix][row_pix][:]\n",
        "        plt.plot(ag_nik_pix_evol)\n",
        "        plt.xlabel(\"Number of frames\")\n",
        "        plt.ylabel(\"Pixel Value\")\n",
        "        plt.title(\"Time evolution of Soil Temperature at Ag. Nikolaos\")\n",
        "    \n",
        "    elif ((row_pix == 5) and (col_pix == 17)):\n",
        "\n",
        "        her_pix_evol = pixel_evol[col_pix][row_pix][:]\n",
        "        plt.plot(her_pix_evol)\n",
        "        plt.xlabel(\"Number of frames\")\n",
        "        plt.ylabel(\"Pixel Value\")\n",
        "        plt.title(\"Time evolution of Soil Temperature at Heraklion\")\n",
        "        \n",
        "    elif ((row_pix == 5) and (col_pix == 10)):\n",
        "\n",
        "        rethymno_pix_evol = pixel_evol[col_pix][row_pix][:]\n",
        "        plt.plot(rethymno_pix_evol)\n",
        "        plt.xlabel(\"Number of frames\")\n",
        "        plt.ylabel(\"Pixel Value\")\n",
        "        plt.title(\"Time evolution of Soil Temperature at Rethymno\")\n",
        "\n",
        "    elif((row_pix == 2) and (col_pix == 6)):\n",
        "\n",
        "        chania_pix_evol = pixel_evol[col_pix][row_pix][:]\n",
        "        plt.plot(chania_pix_evol)\n",
        "        plt.xlabel(\"Number of frames\")\n",
        "        plt.ylabel(\"Pixel Value\")\n",
        "        plt.title(\"Time evolution of Soil Temperature at Chania\")\n",
        "\n",
        "    else:\n",
        "\n",
        "        random_pix = pixel_evol[col_pix][row_pix][:]\n",
        "        plt.plot(random_pix)\n",
        "        plt.xlabel(\"Number of frames\")\n",
        "        plt.ylabel(\"Pixel Value\")\n",
        "        plt.title(\"Time evolution of Soil Temperature at random area in Crete\")\n",
        "\n",
        "    plt.show()"
      ],
      "metadata": {
        "id": "f6QbqwZKHW8y"
      },
      "execution_count": 11,
      "outputs": []
    },
    {
      "cell_type": "code",
      "source": [
        "data_panda = pd.read_csv(\"/gdrive/MyDrive/pla(i)nt/Csv Folders of pla(i)nt/Heraklion pandas.csv\")\n",
        "data_panda.plot.line(x='Time',y='soil_temperature_level_1',color='red',legend=None)\n",
        "plt.xticks(rotation=45)\n",
        "plt.ylabel('Soil Temperature (K)')\n",
        "plt.xlabel('Time (Years)')\n",
        "plt.title('Soil Temperature at Heraklion')\n",
        "plt.show()"
      ],
      "metadata": {
        "id": "Q_hxu5-40l9N"
      },
      "execution_count": null,
      "outputs": []
    },
    {
      "cell_type": "code",
      "source": [
        "# Construct the input layer with no definite frame size.\n",
        "inp = layers.Input(shape=(None, *x_train.shape[2:]))\n",
        "\n",
        "# We will construct 3 `ConvLSTM2D` layers with batch normalization,\n",
        "# followed by a `Conv3D` layer for the spatiotemporal outputs.\n",
        "x = layers.ConvLSTM2D(\n",
        "    filters=64,\n",
        "    kernel_size=(5, 5),\n",
        "    padding=\"same\",\n",
        "    return_sequences=True,\n",
        "    activation=\"relu\",\n",
        ")(inp)\n",
        "x = layers.BatchNormalization()(x)\n",
        "x = layers.ConvLSTM2D(\n",
        "    filters=64,\n",
        "    kernel_size=(3, 3),\n",
        "    padding=\"same\",\n",
        "    return_sequences=True,\n",
        "    activation=\"relu\",\n",
        ")(x)\n",
        "x = layers.BatchNormalization()(x)\n",
        "x = layers.ConvLSTM2D(\n",
        "    filters=64,\n",
        "    kernel_size=(1, 1),\n",
        "    padding=\"same\",\n",
        "    return_sequences=True,\n",
        "    activation=\"relu\",\n",
        ")(x)\n",
        "x = layers.Conv3D(\n",
        "    filters=1, kernel_size=(3, 3, 3), activation=\"sigmoid\", padding=\"same\"\n",
        ")(x)"
      ],
      "metadata": {
        "id": "-gAkNbPb3wQr"
      },
      "execution_count": 13,
      "outputs": []
    },
    {
      "cell_type": "code",
      "source": [
        "# Next, we will build the complete model and compile it.\n",
        "model = keras.models.Model(inp, x)\n",
        "model.compile(\n",
        "    loss=keras.losses.mean_squared_error, optimizer=keras.optimizers.Adam(0.0001))"
      ],
      "metadata": {
        "id": "lOzngQKe33Z8"
      },
      "execution_count": 14,
      "outputs": []
    },
    {
      "cell_type": "code",
      "source": [
        "# Define some callbacks to improve training.\n",
        "#early_stopping = keras.callbacks.EarlyStopping(monitor=\"accuracy\", patience=10)\n",
        "reduce_lr = keras.callbacks.ReduceLROnPlateau(monitor=\"loss\", patience = 2)\n",
        "\n",
        "# Define modifiable training hyperparameters.\n",
        "epochs = 10\n",
        "batch_size = 10\n",
        "\n",
        "# Fit the model to the training data.\n",
        "history = model.fit(x_train, y_train, epochs = epochs, batch_size = batch_size, callbacks = [reduce_lr])"
      ],
      "metadata": {
        "id": "sAtFEzFB4Rjw"
      },
      "execution_count": null,
      "outputs": []
    },
    {
      "cell_type": "code",
      "source": [
        "plt.xlabel('Epochs')\n",
        "plt.ylabel(\"Loss Magnitude\")\n",
        "plt.title('Training Loss')\n",
        "plt.plot(history.history['loss'])\n",
        "plt.show()"
      ],
      "metadata": {
        "id": "Zj7X--ol4xXV"
      },
      "execution_count": null,
      "outputs": []
    }
  ]
}